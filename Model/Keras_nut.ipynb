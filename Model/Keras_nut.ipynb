{
  "nbformat": 4,
  "nbformat_minor": 0,
  "metadata": {
    "colab": {
      "name": "Keras_nut.ipynb",
      "version": "0.3.2",
      "provenance": [],
      "collapsed_sections": [
        "snm6QJamPIlf"
      ]
    },
    "kernelspec": {
      "name": "python3",
      "display_name": "Python 3"
    },
    "accelerator": "TPU"
  },
  "cells": [
    {
      "metadata": {
        "id": "O534TQRJO89l",
        "colab_type": "text"
      },
      "cell_type": "markdown",
      "source": [
        "# Playing around with Keras machine learning..\n",
        "\n",
        "Scaling up from difficulty.\n",
        "\n",
        "Fully-Connected network (Forward model)"
      ]
    },
    {
      "metadata": {
        "id": "snm6QJamPIlf",
        "colab_type": "text"
      },
      "cell_type": "markdown",
      "source": [
        "# Packages"
      ]
    },
    {
      "metadata": {
        "id": "0yckAS4mPFqx",
        "colab_type": "code",
        "colab": {
          "base_uri": "https://localhost:8080/",
          "height": 34
        },
        "outputId": "99b88906-8bb1-4761-95cf-47fadf1852a1"
      },
      "cell_type": "code",
      "source": [
        "from keras.models import Model, Sequential\n",
        "from keras.layers import Input, ZeroPadding2D\n",
        "from keras.layers import Dense, BatchNormalization\n",
        "from keras.layers.merge import concatenate\n",
        "from keras.optimizers import Adam, RMSprop\n",
        "from keras.layers import Dense, Activation, Flatten, Reshape, Conv2D\n",
        "from keras.layers import Conv2DTranspose, UpSampling2D, LeakyReLU, Dropout\n",
        "import numpy as np\n",
        "import matplotlib.pyplot as plt\n",
        "import tensorflow as tf\n"
      ],
      "execution_count": 1,
      "outputs": [
        {
          "output_type": "stream",
          "text": [
            "Using TensorFlow backend.\n"
          ],
          "name": "stderr"
        }
      ]
    },
    {
      "metadata": {
        "id": "hi9YUbzLSoMO",
        "colab_type": "text"
      },
      "cell_type": "markdown",
      "source": [
        "# Load Data"
      ]
    },
    {
      "metadata": {
        "id": "--I1DgiTSna0",
        "colab_type": "code",
        "outputId": "cebf631f-dabe-4308-fda3-792431d00c18",
        "colab": {
          "base_uri": "https://localhost:8080/",
          "height": 122
        }
      },
      "cell_type": "code",
      "source": [
        "# Load the Drive helper and mount (Authorization)\n",
        "from google.colab import drive\n",
        "drive.mount('/content/drive')"
      ],
      "execution_count": 2,
      "outputs": [
        {
          "output_type": "stream",
          "text": [
            "Go to this URL in a browser: https://accounts.google.com/o/oauth2/auth?client_id=947318989803-6bn6qk8qdgf4n4g3pfee6491hc0brc4i.apps.googleusercontent.com&redirect_uri=urn%3Aietf%3Awg%3Aoauth%3A2.0%3Aoob&scope=email%20https%3A%2F%2Fwww.googleapis.com%2Fauth%2Fdocs.test%20https%3A%2F%2Fwww.googleapis.com%2Fauth%2Fdrive%20https%3A%2F%2Fwww.googleapis.com%2Fauth%2Fdrive.photos.readonly%20https%3A%2F%2Fwww.googleapis.com%2Fauth%2Fpeopleapi.readonly&response_type=code\n",
            "\n",
            "Enter your authorization code:\n",
            "··········\n",
            "Mounted at /content/drive\n"
          ],
          "name": "stdout"
        }
      ]
    },
    {
      "metadata": {
        "id": "RNrCM_e-Suou",
        "colab_type": "code",
        "colab": {}
      },
      "cell_type": "code",
      "source": [
        "import os\n",
        "import h5py\n",
        "import pandas as pd\n",
        "os.chdir('/content/drive/My Drive/LLNL')"
      ],
      "execution_count": 0,
      "outputs": []
    },
    {
      "metadata": {
        "id": "GdxyTUp2Syxc",
        "colab_type": "code",
        "outputId": "cab7d005-b061-4c07-a69e-a4b91488a3e2",
        "colab": {
          "base_uri": "https://localhost:8080/",
          "height": 34
        }
      },
      "cell_type": "code",
      "source": [
        "def load_data(train_path,test_path):\n",
        "    # read in Data\n",
        "    tests_data = test_path ; train_data = train_path;\n",
        "    ts_df = h5py.File(tests_data,'r') ; tr_df = h5py.File(train_data,'r') ;\n",
        "    # Scan for images and grab labels\n",
        "    y_train = np.array(tr_df['images'])\n",
        "    X_train = np.array([tr_df['images'][i][0] for i in y_train])\n",
        "    y_test = np.array(ts_df['images'])\n",
        "    X_test = np.array([ts_df['images'][i][0] for i in y_test])\n",
        "\n",
        "    # close h5py\n",
        "    ts_df.close() ; tr_df.close()\n",
        "    return (X_train*1.0, y_train),(X_test*1.0, y_test)\n",
        "\n",
        "train_path = 'new_training_data.h5'\n",
        "test_path = 'new_test_data.h5'\n",
        "(X_train,y_train),(X_test,y_test) = load_data(train_path,test_path)\n",
        "X_train.shape"
      ],
      "execution_count": 4,
      "outputs": [
        {
          "output_type": "execute_result",
          "data": {
            "text/plain": [
              "(16771, 100, 100)"
            ]
          },
          "metadata": {
            "tags": []
          },
          "execution_count": 4
        }
      ]
    },
    {
      "metadata": {
        "id": "6qZaRsuVrsGs",
        "colab_type": "code",
        "colab": {}
      },
      "cell_type": "code",
      "source": [
        "# Parameter Data to use\n",
        "train_df = pd.read_csv(\"param_search.csv\", sep = \",\")\n",
        "test_df = pd.read_csv(\"param_search2.csv\", sep = \",\")"
      ],
      "execution_count": 0,
      "outputs": []
    },
    {
      "metadata": {
        "id": "FZPDwnOEp_rZ",
        "colab_type": "text"
      },
      "cell_type": "markdown",
      "source": [
        "# Manipulate Data"
      ]
    },
    {
      "metadata": {
        "id": "j4IFXR4fTT1y",
        "colab_type": "code",
        "colab": {}
      },
      "cell_type": "code",
      "source": [
        "# Resizing data to 25 by 25 image. (Do NOT write over it.)\n",
        "import scipy.ndimage as ndi\n",
        "X_train = ndi.zoom(X_train, (1, .25, .25), order=2)\n",
        "X_test = ndi.zoom(X_test, (1, .25, .25), order=2)\n",
        "np.shape(X_train) + np.shape(X_test)"
      ],
      "execution_count": 0,
      "outputs": []
    },
    {
      "metadata": {
        "id": "ZTbJr1fOS-es",
        "colab_type": "code",
        "colab": {}
      },
      "cell_type": "code",
      "source": [
        "# Normalize Data.\n",
        "X_train = (X_train-np.min(X_train))/(np.max(X_train)-np.min(X_train))\n",
        "X_test = (X_test-np.min(X_test))/(np.max(X_test)-np.min(X_test))"
      ],
      "execution_count": 0,
      "outputs": []
    },
    {
      "metadata": {
        "id": "pHqfY27X3ASu",
        "colab_type": "text"
      },
      "cell_type": "markdown",
      "source": [
        "# Keras Sequential Model.."
      ]
    },
    {
      "metadata": {
        "id": "FCroRZUO3EP8",
        "colab_type": "code",
        "outputId": "fc7034f8-044e-4dd9-fa7f-b76ab63edc45",
        "colab": {
          "base_uri": "https://localhost:8080/",
          "height": 377
        }
      },
      "cell_type": "code",
      "source": [
        "model = Sequential()\n",
        "model.add(Dense(64, activation='relu', input_shape=(3,)))\n",
        "model.add(Dense(128, activation='relu'))\n",
        "model.add(Dense(256, activation='relu'))\n",
        "model.add(Dense(512, activation='relu'))\n",
        "model.add(Dense(625, activation=None))\n",
        "model.summary()"
      ],
      "execution_count": 23,
      "outputs": [
        {
          "output_type": "stream",
          "text": [
            "WARNING:tensorflow:From /usr/local/lib/python3.6/dist-packages/tensorflow/python/framework/op_def_library.py:263: colocate_with (from tensorflow.python.framework.ops) is deprecated and will be removed in a future version.\n",
            "Instructions for updating:\n",
            "Colocations handled automatically by placer.\n",
            "_________________________________________________________________\n",
            "Layer (type)                 Output Shape              Param #   \n",
            "=================================================================\n",
            "dense_1 (Dense)              (None, 64)                256       \n",
            "_________________________________________________________________\n",
            "dense_2 (Dense)              (None, 128)               8320      \n",
            "_________________________________________________________________\n",
            "dense_3 (Dense)              (None, 256)               33024     \n",
            "_________________________________________________________________\n",
            "dense_4 (Dense)              (None, 512)               131584    \n",
            "_________________________________________________________________\n",
            "dense_5 (Dense)              (None, 625)               320625    \n",
            "=================================================================\n",
            "Total params: 493,809\n",
            "Trainable params: 493,809\n",
            "Non-trainable params: 0\n",
            "_________________________________________________________________\n"
          ],
          "name": "stdout"
        }
      ]
    },
    {
      "metadata": {
        "id": "2vo0lE-M3MMN",
        "colab_type": "code",
        "colab": {}
      },
      "cell_type": "code",
      "source": [
        "model.compile(loss='mean_squared_error',optimizer=RMSprop(),metrics=['mean_squared_error'])"
      ],
      "execution_count": 0,
      "outputs": []
    },
    {
      "metadata": {
        "id": "5PLF0Y9fw0WO",
        "colab_type": "text"
      },
      "cell_type": "markdown",
      "source": [
        "# Training Model"
      ]
    },
    {
      "metadata": {
        "id": "lhQTILtqIQud",
        "colab_type": "code",
        "outputId": "b098f731-4b49-4ff7-cc3a-9925d99a6dae",
        "colab": {
          "base_uri": "https://localhost:8080/",
          "height": 241
        }
      },
      "cell_type": "code",
      "source": [
        "model.fit(train_df,np.reshape(X_train,(16771,625)), batch_size = 32, epochs = 4)"
      ],
      "execution_count": 26,
      "outputs": [
        {
          "output_type": "stream",
          "text": [
            "WARNING:tensorflow:From /usr/local/lib/python3.6/dist-packages/tensorflow/python/ops/math_ops.py:3066: to_int32 (from tensorflow.python.ops.math_ops) is deprecated and will be removed in a future version.\n",
            "Instructions for updating:\n",
            "Use tf.cast instead.\n",
            "Epoch 1/4\n",
            "16771/16771 [==============================] - 6s 356us/step - loss: 0.0531 - mean_squared_error: 0.0531\n",
            "Epoch 2/4\n",
            "16771/16771 [==============================] - 5s 320us/step - loss: 0.0050 - mean_squared_error: 0.0050\n",
            "Epoch 3/4\n",
            "16771/16771 [==============================] - 6s 340us/step - loss: 0.0029 - mean_squared_error: 0.0029\n",
            "Epoch 4/4\n",
            "16771/16771 [==============================] - 6s 341us/step - loss: 0.0033 - mean_squared_error: 0.0033\n"
          ],
          "name": "stdout"
        },
        {
          "output_type": "execute_result",
          "data": {
            "text/plain": [
              "<keras.callbacks.History at 0x7f46bf8e46a0>"
            ]
          },
          "metadata": {
            "tags": []
          },
          "execution_count": 26
        }
      ]
    },
    {
      "metadata": {
        "id": "Nb6iq4F_w3VS",
        "colab_type": "text"
      },
      "cell_type": "markdown",
      "source": [
        "# Predictions\n",
        "\n",
        "First image is out of sample. Second image is out of sample."
      ]
    },
    {
      "metadata": {
        "id": "RRpy7jJsUc1m",
        "colab_type": "code",
        "outputId": "d041da73-7e19-4163-e376-253bc9ccec0e",
        "colab": {
          "base_uri": "https://localhost:8080/",
          "height": 85
        }
      },
      "cell_type": "code",
      "source": [
        "# Grab image from dataset.\n",
        "print(train_df.iloc[50:51,])\n",
        "print(test_df.iloc[100:101,])"
      ],
      "execution_count": 27,
      "outputs": [
        {
          "output_type": "stream",
          "text": [
            "           p        phi       theta\n",
            "50 -0.786348  56.876568  101.787616\n",
            "            p   phi       theta\n",
            "100 -0.786348  90.0  164.850871\n"
          ],
          "name": "stdout"
        }
      ]
    },
    {
      "metadata": {
        "id": "ZDiJLLYqxg2i",
        "colab_type": "text"
      },
      "cell_type": "markdown",
      "source": [
        "### Out of Sample"
      ]
    },
    {
      "metadata": {
        "id": "2FY_RrGARKKm",
        "colab_type": "code",
        "outputId": "af1b8074-99cb-4fe3-f314-c621ac27a86e",
        "colab": {
          "base_uri": "https://localhost:8080/",
          "height": 364
        }
      },
      "cell_type": "code",
      "source": [
        "huh = model.predict(test_df.iloc[0:1,])\n",
        "plt.imshow(np.reshape(huh,(25,25)),cmap = 'jet')"
      ],
      "execution_count": 42,
      "outputs": [
        {
          "output_type": "execute_result",
          "data": {
            "text/plain": [
              "<matplotlib.image.AxesImage at 0x7f46ba2bef98>"
            ]
          },
          "metadata": {
            "tags": []
          },
          "execution_count": 42
        },
        {
          "output_type": "display_data",
          "data": {
            "image/png": "[encoded data removed]",
            "text/plain": [
              "<Figure size 576x396 with 1 Axes>"
            ]
          },
          "metadata": {
            "tags": []
          }
        }
      ]
    },
    {
      "metadata": {
        "id": "2FiDbAy6xlB7",
        "colab_type": "text"
      },
      "cell_type": "markdown",
      "source": [
        "Real Image Comparison for Out of Sapmle"
      ]
    },
    {
      "metadata": {
        "id": "v9Gkwb7hKUoP",
        "colab_type": "code",
        "outputId": "46cf6749-957b-47f7-f6a8-9481418fcd5c",
        "colab": {
          "base_uri": "https://localhost:8080/",
          "height": 364
        }
      },
      "cell_type": "code",
      "source": [
        "plt.imshow(np.reshape(X_test[0], (25,25)), cmap = 'jet')"
      ],
      "execution_count": 43,
      "outputs": [
        {
          "output_type": "execute_result",
          "data": {
            "text/plain": [
              "<matplotlib.image.AxesImage at 0x7f46ba290e80>"
            ]
          },
          "metadata": {
            "tags": []
          },
          "execution_count": 43
        },
        {
          "output_type": "display_data",
          "data": {
            "image/png": "[encoded data removed]",
            "text/plain": [
              "<Figure size 576x396 with 1 Axes>"
            ]
          },
          "metadata": {
            "tags": []
          }
        }
      ]
    },
    {
      "metadata": {
        "id": "O3ITV3Wmx1KW",
        "colab_type": "text"
      },
      "cell_type": "markdown",
      "source": [
        "### In Sample"
      ]
    },
    {
      "metadata": {
        "id": "N8okdTETUR7G",
        "colab_type": "code",
        "colab": {
          "base_uri": "https://localhost:8080/",
          "height": 364
        },
        "outputId": "4bd698d0-bd0d-407a-c546-6dccbaa0adce"
      },
      "cell_type": "code",
      "source": [
        "huh = model.predict(train_df.iloc[1000:1001,])\n",
        "plt.imshow(np.reshape(huh,(25,25)),cmap = 'jet')"
      ],
      "execution_count": 44,
      "outputs": [
        {
          "output_type": "execute_result",
          "data": {
            "text/plain": [
              "<matplotlib.image.AxesImage at 0x7f46ba1eb1d0>"
            ]
          },
          "metadata": {
            "tags": []
          },
          "execution_count": 44
        },
        {
          "output_type": "display_data",
          "data": {
            "image/png": "[encoded data removed]",
            "text/plain": [
              "<Figure size 576x396 with 1 Axes>"
            ]
          },
          "metadata": {
            "tags": []
          }
        }
      ]
    },
    {
      "metadata": {
        "id": "oaWDY9Cpx-vt",
        "colab_type": "text"
      },
      "cell_type": "markdown",
      "source": [
        "Real image for in sample"
      ]
    },
    {
      "metadata": {
        "id": "4c2ex1gtx7_Y",
        "colab_type": "code",
        "colab": {
          "base_uri": "https://localhost:8080/",
          "height": 364
        },
        "outputId": "e92640d1-ce5d-4ac4-8d2e-3d2749fda905"
      },
      "cell_type": "code",
      "source": [
        "plt.imshow(np.reshape(X_train[1000], (25,25)), cmap = 'jet')"
      ],
      "execution_count": 45,
      "outputs": [
        {
          "output_type": "execute_result",
          "data": {
            "text/plain": [
              "<matplotlib.image.AxesImage at 0x7f46ba1bd0b8>"
            ]
          },
          "metadata": {
            "tags": []
          },
          "execution_count": 45
        },
        {
          "output_type": "display_data",
          "data": {
            "image/png": "[encoded data removed]",
            "text/plain": [
              "<Figure size 576x396 with 1 Axes>"
            ]
          },
          "metadata": {
            "tags": []
          }
        }
      ]
    }
  ]
}