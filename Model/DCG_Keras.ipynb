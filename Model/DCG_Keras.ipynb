{
  "nbformat": 4,
  "nbformat_minor": 0,
  "metadata": {
    "colab": {
      "name": "DCG_Keras.ipynb",
      "version": "0.3.2",
      "provenance": [],
      "collapsed_sections": []
    },
    "kernelspec": {
      "name": "python3",
      "display_name": "Python 3"
    },
    "accelerator": "GPU"
  },
  "cells": [
    {
      "metadata": {
        "id": "0p8PaSXL0zcZ",
        "colab_type": "code",
        "colab": {}
      },
      "cell_type": "code",
      "source": [
        ""
      ],
      "execution_count": 0,
      "outputs": []
    },
    {
      "metadata": {
        "id": "XXh6Pdcm04Tk",
        "colab_type": "text"
      },
      "cell_type": "markdown",
      "source": [
        "# DCG model (Keras generator)\n",
        "\n",
        "Scaling up from difficulty.\n",
        "\n",
        "(Forward model)"
      ]
    },
    {
      "metadata": {
        "id": "XIu_7t5m09tY",
        "colab_type": "text"
      },
      "cell_type": "markdown",
      "source": [
        "# Packages"
      ]
    },
    {
      "metadata": {
        "id": "y8aDSZck049q",
        "colab_type": "code",
        "outputId": "4dfa2127-4a6f-4ab8-98d3-92aee3f65fb6",
        "colab": {
          "base_uri": "https://localhost:8080/",
          "height": 34
        }
      },
      "cell_type": "code",
      "source": [
        "from keras.models import Model, Sequential\n",
        "from keras.layers import Input, ZeroPadding2D\n",
        "from keras.layers import Dense, BatchNormalization\n",
        "from keras.layers.merge import concatenate\n",
        "from keras.optimizers import Adam, RMSprop\n",
        "from keras.layers import Dense, Activation, Flatten, Reshape, Conv2D\n",
        "from keras.layers import Conv2DTranspose, UpSampling2D, LeakyReLU, Dropout\n",
        "import numpy as np\n",
        "import matplotlib.pyplot as plt\n",
        "import tensorflow as tf"
      ],
      "execution_count": 1,
      "outputs": [
        {
          "output_type": "stream",
          "text": [
            "Using TensorFlow backend.\n"
          ],
          "name": "stderr"
        }
      ]
    },
    {
      "metadata": {
        "id": "OSZwfW7T1Alx",
        "colab_type": "text"
      },
      "cell_type": "markdown",
      "source": [
        "# Load Data"
      ]
    },
    {
      "metadata": {
        "id": "6KuyXhvH1CtF",
        "colab_type": "code",
        "outputId": "6f88a24f-096c-4505-e550-69c89675ebc2",
        "colab": {
          "base_uri": "https://localhost:8080/",
          "height": 122
        }
      },
      "cell_type": "code",
      "source": [
        "# Load the Drive helper and mount (Authorization)\n",
        "from google.colab import drive\n",
        "drive.mount('/content/drive')"
      ],
      "execution_count": 2,
      "outputs": [
        {
          "output_type": "stream",
          "text": [
            "Go to this URL in a browser: https://accounts.google.com/o/oauth2/auth?client_id=947318989803-6bn6qk8qdgf4n4g3pfee6491hc0brc4i.apps.googleusercontent.com&redirect_uri=urn%3Aietf%3Awg%3Aoauth%3A2.0%3Aoob&scope=email%20https%3A%2F%2Fwww.googleapis.com%2Fauth%2Fdocs.test%20https%3A%2F%2Fwww.googleapis.com%2Fauth%2Fdrive%20https%3A%2F%2Fwww.googleapis.com%2Fauth%2Fdrive.photos.readonly%20https%3A%2F%2Fwww.googleapis.com%2Fauth%2Fpeopleapi.readonly&response_type=code\n",
            "\n",
            "Enter your authorization code:\n",
            "··········\n",
            "Mounted at /content/drive\n"
          ],
          "name": "stdout"
        }
      ]
    },
    {
      "metadata": {
        "id": "sRoCyVPX1FX9",
        "colab_type": "code",
        "colab": {}
      },
      "cell_type": "code",
      "source": [
        "import os\n",
        "import h5py\n",
        "import pandas as pd\n",
        "os.chdir('/content/drive/My Drive/LLNL')"
      ],
      "execution_count": 0,
      "outputs": []
    },
    {
      "metadata": {
        "id": "N5tqKrfV1K_G",
        "colab_type": "code",
        "outputId": "8c418039-00eb-4c71-e176-ccb29cd028fb",
        "colab": {
          "base_uri": "https://localhost:8080/",
          "height": 34
        }
      },
      "cell_type": "code",
      "source": [
        "def load_data(train_path,test_path):\n",
        "    # read in Data\n",
        "    tests_data = test_path ; train_data = train_path;\n",
        "    ts_df = h5py.File(tests_data,'r') ; tr_df = h5py.File(train_data,'r') ;\n",
        "    # Scan for images and grab labels\n",
        "    y_train = np.array(tr_df['images'])\n",
        "    X_train = np.array([tr_df['images'][i][0] for i in y_train])\n",
        "    y_test = np.array(ts_df['images'])\n",
        "    X_test = np.array([ts_df['images'][i][0] for i in y_test])\n",
        "    # close h5py\n",
        "    ts_df.close() ; tr_df.close()\n",
        "    return (X_train*1.0, X_test*1.0)\n",
        "\n",
        "train_path = 'new_training_data.h5'\n",
        "test_path = 'new_test_data.h5'\n",
        "(X_train, X_test) = load_data(train_path,test_path)\n",
        "X_train.shape +  X_test.shape # images will be labels for this model."
      ],
      "execution_count": 4,
      "outputs": [
        {
          "output_type": "execute_result",
          "data": {
            "text/plain": [
              "(16771, 100, 100, 7214, 100, 100)"
            ]
          },
          "metadata": {
            "tags": []
          },
          "execution_count": 4
        }
      ]
    },
    {
      "metadata": {
        "id": "6dKKGJHV1Nea",
        "colab_type": "code",
        "colab": {}
      },
      "cell_type": "code",
      "source": [
        "# Parameter Data to use\n",
        "train_df = pd.read_csv(\"param_search.csv\", sep = \",\")\n",
        "test_df = pd.read_csv(\"param_search2.csv\", sep = \",\")"
      ],
      "execution_count": 0,
      "outputs": []
    },
    {
      "metadata": {
        "id": "yrKo6Nug1Jse",
        "colab_type": "text"
      },
      "cell_type": "markdown",
      "source": [
        "# Manipulate Data"
      ]
    },
    {
      "metadata": {
        "id": "KoHisUrL1PvU",
        "colab_type": "code",
        "colab": {}
      },
      "cell_type": "code",
      "source": [
        "## Resizing data to n by n image. (Not necessary for 100 by 100 images)\n",
        "# n = 25; n = n/100\n",
        "#import scipy.ndimage as ndi\n",
        "#X_train = ndi.zoom(X_train, (1, n, n), order=2)\n",
        "#X_test = ndi.zoom(X_test, (1, n, n), order=2)\n",
        "#np.shape(X_train) + np.shape(X_test)"
      ],
      "execution_count": 0,
      "outputs": []
    },
    {
      "metadata": {
        "id": "HCJjUZpG1W-r",
        "colab_type": "code",
        "colab": {}
      },
      "cell_type": "code",
      "source": [
        "# Normalize Data.\n",
        "X_train = (X_train-np.min(X_train))/(np.max(X_train)-np.min(X_train))\n",
        "X_test = (X_test-np.min(X_test))/(np.max(X_test)-np.min(X_test))"
      ],
      "execution_count": 0,
      "outputs": []
    },
    {
      "metadata": {
        "id": "Ke6nUZ411ZZa",
        "colab_type": "text"
      },
      "cell_type": "markdown",
      "source": [
        "# Keras Sequential Model.."
      ]
    },
    {
      "metadata": {
        "id": "8pE3N5PbpB3e",
        "colab_type": "code",
        "outputId": "e1df153f-879d-4946-8d8c-8c09b5ae0af3",
        "colab": {
          "base_uri": "https://localhost:8080/",
          "height": 734
        }
      },
      "cell_type": "code",
      "source": [
        "model = Sequential()\n",
        "\n",
        "# In: 3\n",
        "# Hidden Layers and Resizing\n",
        "model.add(Dense(25, activation='relu', input_shape=(3,)))\n",
        "model.add(Dense(100, activation = 'relu'))\n",
        "model.add(Dense(625, activation = 'relu'))\n",
        "model.add(Reshape((5, 5, 25)))\n",
        "model.add(Dropout(0.4))\n",
        "\n",
        "# Deconvolution Layers\n",
        "model.add(UpSampling2D())\n",
        "model.add(Conv2DTranspose(int(25/2), 5, padding='same'))\n",
        "model.add(Dropout(0.4))\n",
        "\n",
        "model.add(UpSampling2D())\n",
        "model.add(BatchNormalization(momentum=0.9))\n",
        "model.add(Conv2DTranspose(int(25/8), 5, padding='same'))\n",
        "\n",
        "\n",
        "# Output Layers\n",
        "model.add(Flatten())\n",
        "model.add(BatchNormalization(momentum=0.9))\n",
        "model.add(Dense(10000, activation=None))\n",
        "model.summary()"
      ],
      "execution_count": 8,
      "outputs": [
        {
          "output_type": "stream",
          "text": [
            "WARNING:tensorflow:From /usr/local/lib/python3.6/dist-packages/tensorflow/python/framework/op_def_library.py:263: colocate_with (from tensorflow.python.framework.ops) is deprecated and will be removed in a future version.\n",
            "Instructions for updating:\n",
            "Colocations handled automatically by placer.\n",
            "WARNING:tensorflow:From /usr/local/lib/python3.6/dist-packages/keras/backend/tensorflow_backend.py:3445: calling dropout (from tensorflow.python.ops.nn_ops) with keep_prob is deprecated and will be removed in a future version.\n",
            "Instructions for updating:\n",
            "Please use `rate` instead of `keep_prob`. Rate should be set to `rate = 1 - keep_prob`.\n",
            "_________________________________________________________________\n",
            "Layer (type)                 Output Shape              Param #   \n",
            "=================================================================\n",
            "dense_1 (Dense)              (None, 25)                100       \n",
            "_________________________________________________________________\n",
            "dense_2 (Dense)              (None, 100)               2600      \n",
            "_________________________________________________________________\n",
            "dense_3 (Dense)              (None, 625)               63125     \n",
            "_________________________________________________________________\n",
            "reshape_1 (Reshape)          (None, 5, 5, 25)          0         \n",
            "_________________________________________________________________\n",
            "dropout_1 (Dropout)          (None, 5, 5, 25)          0         \n",
            "_________________________________________________________________\n",
            "up_sampling2d_1 (UpSampling2 (None, 10, 10, 25)        0         \n",
            "_________________________________________________________________\n",
            "conv2d_transpose_1 (Conv2DTr (None, 10, 10, 12)        7512      \n",
            "_________________________________________________________________\n",
            "dropout_2 (Dropout)          (None, 10, 10, 12)        0         \n",
            "_________________________________________________________________\n",
            "up_sampling2d_2 (UpSampling2 (None, 20, 20, 12)        0         \n",
            "_________________________________________________________________\n",
            "batch_normalization_1 (Batch (None, 20, 20, 12)        48        \n",
            "_________________________________________________________________\n",
            "conv2d_transpose_2 (Conv2DTr (None, 20, 20, 3)         903       \n",
            "_________________________________________________________________\n",
            "flatten_1 (Flatten)          (None, 1200)              0         \n",
            "_________________________________________________________________\n",
            "batch_normalization_2 (Batch (None, 1200)              4800      \n",
            "_________________________________________________________________\n",
            "dense_4 (Dense)              (None, 10000)             12010000  \n",
            "=================================================================\n",
            "Total params: 12,089,088\n",
            "Trainable params: 12,086,664\n",
            "Non-trainable params: 2,424\n",
            "_________________________________________________________________\n"
          ],
          "name": "stdout"
        }
      ]
    },
    {
      "metadata": {
        "id": "gKu-05GW1djg",
        "colab_type": "code",
        "colab": {}
      },
      "cell_type": "code",
      "source": [
        "model.compile(loss='mean_squared_error',optimizer=Adam(lr=0.004),metrics=['mean_squared_error'])"
      ],
      "execution_count": 0,
      "outputs": []
    },
    {
      "metadata": {
        "id": "9RUNacSd1faa",
        "colab_type": "text"
      },
      "cell_type": "markdown",
      "source": [
        "# Training Model"
      ]
    },
    {
      "metadata": {
        "id": "TI8qqwnJ1hG6",
        "colab_type": "code",
        "outputId": "3ee72b8a-0602-4fa4-fe6f-4d6e388cdaff",
        "colab": {
          "base_uri": "https://localhost:8080/",
          "height": 3505
        }
      },
      "cell_type": "code",
      "source": [
        "model.fit(train_df,np.reshape(X_train,(16771,10000)), batch_size = 128, epochs = 100, shuffle = True) "
      ],
      "execution_count": 10,
      "outputs": [
        {
          "output_type": "stream",
          "text": [
            "WARNING:tensorflow:From /usr/local/lib/python3.6/dist-packages/tensorflow/python/ops/math_ops.py:3066: to_int32 (from tensorflow.python.ops.math_ops) is deprecated and will be removed in a future version.\n",
            "Instructions for updating:\n",
            "Use tf.cast instead.\n",
            "Epoch 1/100\n",
            "16771/16771 [==============================] - 11s 648us/step - loss: 0.0468 - mean_squared_error: 0.0468\n",
            "Epoch 2/100\n",
            "16771/16771 [==============================] - 6s 357us/step - loss: 0.0133 - mean_squared_error: 0.0133\n",
            "Epoch 3/100\n",
            "16771/16771 [==============================] - 6s 369us/step - loss: 0.0093 - mean_squared_error: 0.0093\n",
            "Epoch 4/100\n",
            "16771/16771 [==============================] - 6s 339us/step - loss: 0.0086 - mean_squared_error: 0.0086\n",
            "Epoch 5/100\n",
            "16771/16771 [==============================] - 5s 323us/step - loss: 0.0081 - mean_squared_error: 0.0081\n",
            "Epoch 6/100\n",
            "16771/16771 [==============================] - 6s 330us/step - loss: 0.0045 - mean_squared_error: 0.0045\n",
            "Epoch 7/100\n",
            "16771/16771 [==============================] - 5s 323us/step - loss: 0.0041 - mean_squared_error: 0.0041\n",
            "Epoch 8/100\n",
            "16771/16771 [==============================] - 6s 335us/step - loss: 0.0038 - mean_squared_error: 0.0038\n",
            "Epoch 9/100\n",
            "16771/16771 [==============================] - 5s 319us/step - loss: 0.0032 - mean_squared_error: 0.0032\n",
            "Epoch 10/100\n",
            "16771/16771 [==============================] - 5s 319us/step - loss: 0.0029 - mean_squared_error: 0.0029\n",
            "Epoch 11/100\n",
            "16771/16771 [==============================] - 5s 326us/step - loss: 0.0032 - mean_squared_error: 0.0032\n",
            "Epoch 12/100\n",
            "16771/16771 [==============================] - 5s 327us/step - loss: 0.0026 - mean_squared_error: 0.0026\n",
            "Epoch 13/100\n",
            "16771/16771 [==============================] - 5s 326us/step - loss: 0.0023 - mean_squared_error: 0.0023\n",
            "Epoch 14/100\n",
            "16771/16771 [==============================] - 6s 342us/step - loss: 0.0020 - mean_squared_error: 0.0020\n",
            "Epoch 15/100\n",
            "16771/16771 [==============================] - 6s 331us/step - loss: 0.0020 - mean_squared_error: 0.0020\n",
            "Epoch 16/100\n",
            "16771/16771 [==============================] - 6s 328us/step - loss: 0.0019 - mean_squared_error: 0.0019\n",
            "Epoch 17/100\n",
            "16771/16771 [==============================] - 6s 334us/step - loss: 0.0018 - mean_squared_error: 0.0018\n",
            "Epoch 18/100\n",
            "16771/16771 [==============================] - 5s 322us/step - loss: 0.0017 - mean_squared_error: 0.0017\n",
            "Epoch 19/100\n",
            "16771/16771 [==============================] - 6s 335us/step - loss: 0.0016 - mean_squared_error: 0.0016\n",
            "Epoch 20/100\n",
            "16771/16771 [==============================] - 6s 332us/step - loss: 0.0015 - mean_squared_error: 0.0015\n",
            "Epoch 21/100\n",
            "16771/16771 [==============================] - 5s 325us/step - loss: 0.0015 - mean_squared_error: 0.0015\n",
            "Epoch 22/100\n",
            "16771/16771 [==============================] - 6s 331us/step - loss: 0.0014 - mean_squared_error: 0.0014\n",
            "Epoch 23/100\n",
            "16771/16771 [==============================] - 5s 323us/step - loss: 0.0014 - mean_squared_error: 0.0014\n",
            "Epoch 24/100\n",
            "16771/16771 [==============================] - 5s 318us/step - loss: 0.0014 - mean_squared_error: 0.0014\n",
            "Epoch 25/100\n",
            "16771/16771 [==============================] - 5s 323us/step - loss: 0.0014 - mean_squared_error: 0.0014\n",
            "Epoch 26/100\n",
            "16771/16771 [==============================] - 5s 324us/step - loss: 0.0012 - mean_squared_error: 0.0012\n",
            "Epoch 27/100\n",
            "16771/16771 [==============================] - 5s 326us/step - loss: 0.0012 - mean_squared_error: 0.0012\n",
            "Epoch 28/100\n",
            "16771/16771 [==============================] - 5s 321us/step - loss: 0.0012 - mean_squared_error: 0.0012\n",
            "Epoch 29/100\n",
            "16771/16771 [==============================] - 5s 317us/step - loss: 0.0012 - mean_squared_error: 0.0012\n",
            "Epoch 30/100\n",
            "16771/16771 [==============================] - 5s 318us/step - loss: 0.0011 - mean_squared_error: 0.0011\n",
            "Epoch 31/100\n",
            "16771/16771 [==============================] - 5s 319us/step - loss: 0.0011 - mean_squared_error: 0.0011\n",
            "Epoch 32/100\n",
            "16771/16771 [==============================] - 6s 329us/step - loss: 0.0011 - mean_squared_error: 0.0011\n",
            "Epoch 33/100\n",
            "16771/16771 [==============================] - 5s 323us/step - loss: 0.0011 - mean_squared_error: 0.0011\n",
            "Epoch 34/100\n",
            "16771/16771 [==============================] - 6s 330us/step - loss: 0.0010 - mean_squared_error: 0.0010\n",
            "Epoch 35/100\n",
            "16771/16771 [==============================] - 5s 318us/step - loss: 0.0010 - mean_squared_error: 0.0010\n",
            "Epoch 36/100\n",
            "16771/16771 [==============================] - 5s 325us/step - loss: 9.8096e-04 - mean_squared_error: 9.8096e-04\n",
            "Epoch 37/100\n",
            "16771/16771 [==============================] - 5s 318us/step - loss: 9.6554e-04 - mean_squared_error: 9.6554e-04\n",
            "Epoch 38/100\n",
            "16771/16771 [==============================] - 5s 315us/step - loss: 0.0010 - mean_squared_error: 0.0010\n",
            "Epoch 39/100\n",
            "16771/16771 [==============================] - 6s 347us/step - loss: 9.7876e-04 - mean_squared_error: 9.7876e-04\n",
            "Epoch 40/100\n",
            "16771/16771 [==============================] - 6s 335us/step - loss: 8.8541e-04 - mean_squared_error: 8.8541e-04\n",
            "Epoch 41/100\n",
            "16771/16771 [==============================] - 6s 347us/step - loss: 8.3138e-04 - mean_squared_error: 8.3138e-04\n",
            "Epoch 42/100\n",
            "16771/16771 [==============================] - 6s 347us/step - loss: 8.3588e-04 - mean_squared_error: 8.3588e-04\n",
            "Epoch 43/100\n",
            "16771/16771 [==============================] - 5s 323us/step - loss: 7.1713e-04 - mean_squared_error: 7.1713e-04\n",
            "Epoch 44/100\n",
            "16771/16771 [==============================] - 5s 316us/step - loss: 6.7100e-04 - mean_squared_error: 6.7100e-04\n",
            "Epoch 45/100\n",
            "16771/16771 [==============================] - 5s 327us/step - loss: 6.6467e-04 - mean_squared_error: 6.6467e-04\n",
            "Epoch 46/100\n",
            "16771/16771 [==============================] - 5s 321us/step - loss: 6.2818e-04 - mean_squared_error: 6.2818e-04\n",
            "Epoch 47/100\n",
            "16771/16771 [==============================] - 6s 332us/step - loss: 5.7685e-04 - mean_squared_error: 5.7685e-04\n",
            "Epoch 48/100\n",
            "16771/16771 [==============================] - 5s 321us/step - loss: 5.4958e-04 - mean_squared_error: 5.4958e-04\n",
            "Epoch 49/100\n",
            "16771/16771 [==============================] - 5s 322us/step - loss: 5.1348e-04 - mean_squared_error: 5.1348e-04\n",
            "Epoch 50/100\n",
            "16771/16771 [==============================] - 5s 316us/step - loss: 5.8511e-04 - mean_squared_error: 5.8511e-04\n",
            "Epoch 51/100\n",
            "16771/16771 [==============================] - 5s 323us/step - loss: 4.9374e-04 - mean_squared_error: 4.9374e-04\n",
            "Epoch 52/100\n",
            "16771/16771 [==============================] - 5s 318us/step - loss: 4.2561e-04 - mean_squared_error: 4.2561e-04\n",
            "Epoch 53/100\n",
            "16771/16771 [==============================] - 5s 313us/step - loss: 4.5911e-04 - mean_squared_error: 4.5911e-04\n",
            "Epoch 54/100\n",
            "16771/16771 [==============================] - 5s 315us/step - loss: 4.6143e-04 - mean_squared_error: 4.6143e-04\n",
            "Epoch 55/100\n",
            "16771/16771 [==============================] - 5s 325us/step - loss: 4.5047e-04 - mean_squared_error: 4.5047e-04\n",
            "Epoch 56/100\n",
            "16771/16771 [==============================] - 5s 323us/step - loss: 3.9438e-04 - mean_squared_error: 3.9438e-04\n",
            "Epoch 57/100\n",
            "16771/16771 [==============================] - 6s 332us/step - loss: 3.9421e-04 - mean_squared_error: 3.9421e-04\n",
            "Epoch 58/100\n",
            "16771/16771 [==============================] - 6s 330us/step - loss: 3.4963e-04 - mean_squared_error: 3.4963e-04\n",
            "Epoch 59/100\n",
            "16771/16771 [==============================] - 6s 328us/step - loss: 3.7051e-04 - mean_squared_error: 3.7051e-04\n",
            "Epoch 60/100\n",
            "16771/16771 [==============================] - 6s 329us/step - loss: 3.4135e-04 - mean_squared_error: 3.4135e-04\n",
            "Epoch 61/100\n",
            "16771/16771 [==============================] - 5s 323us/step - loss: 3.2774e-04 - mean_squared_error: 3.2774e-04\n",
            "Epoch 62/100\n",
            "16771/16771 [==============================] - 5s 317us/step - loss: 3.2402e-04 - mean_squared_error: 3.2402e-04\n",
            "Epoch 63/100\n",
            "16771/16771 [==============================] - 6s 330us/step - loss: 3.1155e-04 - mean_squared_error: 3.1155e-04\n",
            "Epoch 64/100\n",
            "16771/16771 [==============================] - 6s 356us/step - loss: 3.0305e-04 - mean_squared_error: 3.0305e-04\n",
            "Epoch 65/100\n",
            "16771/16771 [==============================] - 6s 345us/step - loss: 3.1355e-04 - mean_squared_error: 3.1355e-04\n",
            "Epoch 66/100\n",
            "16771/16771 [==============================] - 6s 350us/step - loss: 3.0999e-04 - mean_squared_error: 3.0999e-04\n",
            "Epoch 67/100\n",
            "16771/16771 [==============================] - 5s 321us/step - loss: 3.4389e-04 - mean_squared_error: 3.4389e-04\n",
            "Epoch 68/100\n",
            "16771/16771 [==============================] - 5s 320us/step - loss: 2.9012e-04 - mean_squared_error: 2.9012e-04\n",
            "Epoch 69/100\n",
            "16771/16771 [==============================] - 5s 315us/step - loss: 7.0783e-04 - mean_squared_error: 7.0783e-04\n",
            "Epoch 70/100\n",
            "16771/16771 [==============================] - 5s 316us/step - loss: 3.8944e-04 - mean_squared_error: 3.8944e-04\n",
            "Epoch 71/100\n",
            "16771/16771 [==============================] - 6s 342us/step - loss: 3.3035e-04 - mean_squared_error: 3.3035e-04\n",
            "Epoch 72/100\n",
            "16771/16771 [==============================] - 6s 348us/step - loss: 3.1762e-04 - mean_squared_error: 3.1762e-04\n",
            "Epoch 73/100\n",
            "16771/16771 [==============================] - 5s 316us/step - loss: 2.7762e-04 - mean_squared_error: 2.7762e-04\n",
            "Epoch 74/100\n",
            "16771/16771 [==============================] - 5s 323us/step - loss: 2.8454e-04 - mean_squared_error: 2.8454e-04\n",
            "Epoch 75/100\n",
            "16771/16771 [==============================] - 5s 326us/step - loss: 3.4542e-04 - mean_squared_error: 3.4542e-04\n",
            "Epoch 76/100\n",
            "16771/16771 [==============================] - 5s 314us/step - loss: 3.0219e-04 - mean_squared_error: 3.0219e-04\n",
            "Epoch 77/100\n",
            "16771/16771 [==============================] - 5s 322us/step - loss: 3.0293e-04 - mean_squared_error: 3.0293e-04\n",
            "Epoch 78/100\n",
            "16771/16771 [==============================] - 6s 348us/step - loss: 2.9524e-04 - mean_squared_error: 2.9524e-04\n",
            "Epoch 79/100\n",
            "16771/16771 [==============================] - 5s 324us/step - loss: 3.0607e-04 - mean_squared_error: 3.0607e-04\n",
            "Epoch 80/100\n",
            "16771/16771 [==============================] - 5s 319us/step - loss: 3.1135e-04 - mean_squared_error: 3.1135e-04\n",
            "Epoch 81/100\n",
            "16771/16771 [==============================] - 5s 313us/step - loss: 2.9581e-04 - mean_squared_error: 2.9581e-04\n",
            "Epoch 82/100\n",
            "16771/16771 [==============================] - 5s 322us/step - loss: 2.8677e-04 - mean_squared_error: 2.8677e-04\n",
            "Epoch 83/100\n",
            "16771/16771 [==============================] - 6s 349us/step - loss: 2.6453e-04 - mean_squared_error: 2.6453e-04\n",
            "Epoch 84/100\n",
            "16771/16771 [==============================] - 6s 348us/step - loss: 2.7830e-04 - mean_squared_error: 2.7830e-04\n",
            "Epoch 85/100\n",
            "16771/16771 [==============================] - 6s 339us/step - loss: 2.8746e-04 - mean_squared_error: 2.8746e-04\n",
            "Epoch 86/100\n",
            "16771/16771 [==============================] - 5s 320us/step - loss: 2.6728e-04 - mean_squared_error: 2.6728e-04\n",
            "Epoch 87/100\n",
            "16771/16771 [==============================] - 5s 327us/step - loss: 2.7038e-04 - mean_squared_error: 2.7038e-04\n",
            "Epoch 88/100\n",
            "16771/16771 [==============================] - 5s 318us/step - loss: 2.6347e-04 - mean_squared_error: 2.6347e-04\n",
            "Epoch 89/100\n",
            "16771/16771 [==============================] - 5s 316us/step - loss: 2.5790e-04 - mean_squared_error: 2.5790e-04\n",
            "Epoch 90/100\n",
            "16771/16771 [==============================] - 6s 346us/step - loss: 2.5430e-04 - mean_squared_error: 2.5430e-04\n",
            "Epoch 91/100\n",
            "16771/16771 [==============================] - 6s 335us/step - loss: 2.6191e-04 - mean_squared_error: 2.6191e-04\n",
            "Epoch 92/100\n",
            "16771/16771 [==============================] - 6s 340us/step - loss: 2.5888e-04 - mean_squared_error: 2.5888e-04\n",
            "Epoch 93/100\n",
            "16771/16771 [==============================] - 6s 338us/step - loss: 2.6602e-04 - mean_squared_error: 2.6602e-04\n",
            "Epoch 94/100\n",
            "16771/16771 [==============================] - 5s 325us/step - loss: 3.3534e-04 - mean_squared_error: 3.3534e-04\n",
            "Epoch 95/100\n",
            "16771/16771 [==============================] - 5s 324us/step - loss: 2.2875e-04 - mean_squared_error: 2.2875e-04\n",
            "Epoch 96/100\n",
            "16771/16771 [==============================] - 5s 325us/step - loss: 2.5715e-04 - mean_squared_error: 2.5715e-04\n",
            "Epoch 97/100\n",
            "16771/16771 [==============================] - 5s 325us/step - loss: 2.6535e-04 - mean_squared_error: 2.6535e-04\n",
            "Epoch 98/100\n",
            "16771/16771 [==============================] - 5s 323us/step - loss: 2.7442e-04 - mean_squared_error: 2.7442e-04\n",
            "Epoch 99/100\n",
            "16771/16771 [==============================] - 6s 334us/step - loss: 2.4281e-04 - mean_squared_error: 2.4281e-04\n",
            "Epoch 100/100\n",
            "16771/16771 [==============================] - 6s 329us/step - loss: 2.3930e-04 - mean_squared_error: 2.3930e-04\n"
          ],
          "name": "stdout"
        },
        {
          "output_type": "execute_result",
          "data": {
            "text/plain": [
              "<keras.callbacks.History at 0x7fbfeb6002e8>"
            ]
          },
          "metadata": {
            "tags": []
          },
          "execution_count": 10
        }
      ]
    },
    {
      "metadata": {
        "id": "kFkkkifk1lfQ",
        "colab_type": "text"
      },
      "cell_type": "markdown",
      "source": [
        "# Predictions\n",
        "\n",
        "First image is out of sample. Second image is out of sample."
      ]
    },
    {
      "metadata": {
        "id": "TCY6fRTkkUj2",
        "colab_type": "code",
        "colab": {}
      },
      "cell_type": "code",
      "source": [
        ""
      ],
      "execution_count": 0,
      "outputs": []
    },
    {
      "metadata": {
        "id": "yX8iCl2p1kvk",
        "colab_type": "code",
        "outputId": "69e068db-1c90-4b70-a294-9ffe19101411",
        "colab": {
          "base_uri": "https://localhost:8080/",
          "height": 85
        }
      },
      "cell_type": "code",
      "source": [
        "# Grab image from dataset.\n",
        "print(train_df.iloc[1014:1015,])\n",
        "print(test_df.iloc[100:101,])"
      ],
      "execution_count": 11,
      "outputs": [
        {
          "output_type": "stream",
          "text": [
            "         p        phi       theta\n",
            "1014 -10.0  28.344843  154.488875\n",
            "            p   phi       theta\n",
            "100 -0.786348  90.0  164.850871\n"
          ],
          "name": "stdout"
        }
      ]
    },
    {
      "metadata": {
        "id": "ee4vLU2N1o4q",
        "colab_type": "text"
      },
      "cell_type": "markdown",
      "source": [
        "### Out of Sample"
      ]
    },
    {
      "metadata": {
        "id": "sgXA_DUB1qn0",
        "colab_type": "code",
        "outputId": "70821845-27f1-4965-d34b-45a2124eab69",
        "colab": {
          "base_uri": "https://localhost:8080/",
          "height": 366
        }
      },
      "cell_type": "code",
      "source": [
        "huh = model.predict(test_df.iloc[1111:1112,])\n",
        "plt.imshow(np.reshape(huh,(100,100)),cmap = 'jet')"
      ],
      "execution_count": 46,
      "outputs": [
        {
          "output_type": "execute_result",
          "data": {
            "text/plain": [
              "<matplotlib.image.AxesImage at 0x7fbfe699ab70>"
            ]
          },
          "metadata": {
            "tags": []
          },
          "execution_count": 46
        },
        {
          "output_type": "display_data",
          "data": {
            "image/png": "[encoded data removed]",
            "text/plain": [
              "<Figure size 576x396 with 1 Axes>"
            ]
          },
          "metadata": {
            "tags": []
          }
        }
      ]
    },
    {
      "metadata": {
        "id": "zYI5fQ9s1s-p",
        "colab_type": "text"
      },
      "cell_type": "markdown",
      "source": [
        "Real Image Comparison for Out of Sapmle"
      ]
    },
    {
      "metadata": {
        "id": "ISx_aSev1vO7",
        "colab_type": "code",
        "outputId": "2617dd34-3d7c-4df7-d217-d7097ad391b2",
        "colab": {
          "base_uri": "https://localhost:8080/",
          "height": 366
        }
      },
      "cell_type": "code",
      "source": [
        "plt.imshow(np.reshape(X_test[1111], (100,100)), cmap = 'jet')"
      ],
      "execution_count": 47,
      "outputs": [
        {
          "output_type": "execute_result",
          "data": {
            "text/plain": [
              "<matplotlib.image.AxesImage at 0x7fbfe68f2358>"
            ]
          },
          "metadata": {
            "tags": []
          },
          "execution_count": 47
        },
        {
          "output_type": "display_data",
          "data": {
            "image/png": "[encoded data removed]",
            "text/plain": [
              "<Figure size 576x396 with 1 Axes>"
            ]
          },
          "metadata": {
            "tags": []
          }
        }
      ]
    },
    {
      "metadata": {
        "id": "Kw-uaxET1xGf",
        "colab_type": "text"
      },
      "cell_type": "markdown",
      "source": [
        "### In Sample"
      ]
    },
    {
      "metadata": {
        "id": "kE4b9srA1xtp",
        "colab_type": "code",
        "outputId": "63cb6962-2c6c-4d17-dd9d-7e82d68c98fe",
        "colab": {
          "base_uri": "https://localhost:8080/",
          "height": 366
        }
      },
      "cell_type": "code",
      "source": [
        "huh = model.predict(train_df.iloc[1014:1015,])\n",
        "plt.imshow(np.reshape(huh,(100,100)),cmap = 'jet')"
      ],
      "execution_count": 33,
      "outputs": [
        {
          "output_type": "execute_result",
          "data": {
            "text/plain": [
              "<matplotlib.image.AxesImage at 0x7fbfe6d87b70>"
            ]
          },
          "metadata": {
            "tags": []
          },
          "execution_count": 33
        },
        {
          "output_type": "display_data",
          "data": {
            "image/png": "[encoded data removed]",
            "text/plain": [
              "<Figure size 576x396 with 1 Axes>"
            ]
          },
          "metadata": {
            "tags": []
          }
        }
      ]
    },
    {
      "metadata": {
        "id": "4391x7XZ12be",
        "colab_type": "text"
      },
      "cell_type": "markdown",
      "source": [
        "Real image for in sample"
      ]
    },
    {
      "metadata": {
        "id": "gCx9EgWc105H",
        "colab_type": "code",
        "outputId": "df5ba0bf-e0e3-4485-b581-7714459eb7b7",
        "colab": {
          "base_uri": "https://localhost:8080/",
          "height": 366
        }
      },
      "cell_type": "code",
      "source": [
        "plt.imshow(np.reshape(X_train[1015], (100,100)), cmap = 'jet')"
      ],
      "execution_count": 34,
      "outputs": [
        {
          "output_type": "execute_result",
          "data": {
            "text/plain": [
              "<matplotlib.image.AxesImage at 0x7fbfe6d64358>"
            ]
          },
          "metadata": {
            "tags": []
          },
          "execution_count": 34
        },
        {
          "output_type": "display_data",
          "data": {
            "image/png": "[encoded data removed]",
            "text/plain": [
              "<Figure size 576x396 with 1 Axes>"
            ]
          },
          "metadata": {
            "tags": []
          }
        }
      ]
    },
    {
      "metadata": {
        "id": "Baa0xgxF16Ct",
        "colab_type": "text"
      },
      "cell_type": "markdown",
      "source": [
        "# Evaluate/Benchmark model"
      ]
    },
    {
      "metadata": {
        "id": "b1o8RiVD167G",
        "colab_type": "code",
        "outputId": "6428a845-fcfa-407e-9527-ce6dab7181d1",
        "colab": {
          "base_uri": "https://localhost:8080/",
          "height": 51
        }
      },
      "cell_type": "code",
      "source": [
        "model.evaluate(test_df, np.reshape(X_test,(7214,10000))) # Test < train. Good sign but 100 epochs may be a bit too many."
      ],
      "execution_count": 16,
      "outputs": [
        {
          "output_type": "stream",
          "text": [
            "7214/7214 [==============================] - 2s 261us/step\n"
          ],
          "name": "stdout"
        },
        {
          "output_type": "execute_result",
          "data": {
            "text/plain": [
              "[9.592701110177853e-05, 9.592701110177853e-05]"
            ]
          },
          "metadata": {
            "tags": []
          },
          "execution_count": 16
        }
      ]
    },
    {
      "metadata": {
        "id": "hvlXafyw199E",
        "colab_type": "text"
      },
      "cell_type": "markdown",
      "source": [
        "# Save Model"
      ]
    },
    {
      "metadata": {
        "id": "ArwTt-Xg2AGH",
        "colab_type": "code",
        "colab": {}
      },
      "cell_type": "code",
      "source": [
        "model.save('DCG_128.h5')"
      ],
      "execution_count": 0,
      "outputs": []
    },
    {
      "metadata": {
        "id": "JqgFn7ZL2DpZ",
        "colab_type": "text"
      },
      "cell_type": "markdown",
      "source": [
        "### What is being saved\n",
        "- Weights\n",
        "- Training Configuration\n",
        "- Optimizer state\n",
        "- Architecture"
      ]
    },
    {
      "metadata": {
        "id": "IJtkH7Ja2ILG",
        "colab_type": "text"
      },
      "cell_type": "markdown",
      "source": [
        "# Load the model..."
      ]
    },
    {
      "metadata": {
        "id": "kqHlc9Fm2B3Z",
        "colab_type": "code",
        "colab": {}
      },
      "cell_type": "code",
      "source": [
        "from keras.models import load_model\n",
        "param_plasma = load_model('DCG_128.h5')"
      ],
      "execution_count": 0,
      "outputs": []
    },
    {
      "metadata": {
        "id": "_rJagn8OHwG8",
        "colab_type": "code",
        "outputId": "0265ad1a-117b-48ed-856b-083d63afc824",
        "colab": {
          "base_uri": "https://localhost:8080/",
          "height": 80
        }
      },
      "cell_type": "code",
      "source": [
        "# Generate Random values.\n",
        "p = np.random.uniform(-10, 10, 1)\n",
        "theta = np.random.uniform(0, 90, 1)\n",
        "phi = np.random.uniform(0,180, 1)\n",
        "trial = [p, theta, phi]\n",
        "check = pd.DataFrame([trial], columns= ['p','theta','phi'])\n",
        "check"
      ],
      "execution_count": 19,
      "outputs": [
        {
          "output_type": "execute_result",
          "data": {
            "text/html": [
              "<div>\n",
              "<style scoped>\n",
              "    .dataframe tbody tr th:only-of-type {\n",
              "        vertical-align: middle;\n",
              "    }\n",
              "\n",
              "    .dataframe tbody tr th {\n",
              "        vertical-align: top;\n",
              "    }\n",
              "\n",
              "    .dataframe thead th {\n",
              "        text-align: right;\n",
              "    }\n",
              "</style>\n",
              "<table border=\"1\" class=\"dataframe\">\n",
              "  <thead>\n",
              "    <tr style=\"text-align: right;\">\n",
              "      <th></th>\n",
              "      <th>p</th>\n",
              "      <th>theta</th>\n",
              "      <th>phi</th>\n",
              "    </tr>\n",
              "  </thead>\n",
              "  <tbody>\n",
              "    <tr>\n",
              "      <th>0</th>\n",
              "      <td>[-3.501837757377406]</td>\n",
              "      <td>[14.682223209898996]</td>\n",
              "      <td>[179.41073308174217]</td>\n",
              "    </tr>\n",
              "  </tbody>\n",
              "</table>\n",
              "</div>"
            ],
            "text/plain": [
              "                      p                 theta                   phi\n",
              "0  [-3.501837757377406]  [14.682223209898996]  [179.41073308174217]"
            ]
          },
          "metadata": {
            "tags": []
          },
          "execution_count": 19
        }
      ]
    },
    {
      "metadata": {
        "id": "hmQY4SAiOnol",
        "colab_type": "code",
        "outputId": "aeb9a23f-78f1-4ad7-f3c7-756511f6418b",
        "colab": {
          "base_uri": "https://localhost:8080/",
          "height": 366
        }
      },
      "cell_type": "code",
      "source": [
        "# Predict\n",
        "hmm = param_plasma.predict(check.iloc[0:1])\n",
        "plt.imshow(np.reshape(hmm,(100,100)),cmap = 'jet')"
      ],
      "execution_count": 20,
      "outputs": [
        {
          "output_type": "execute_result",
          "data": {
            "text/plain": [
              "<matplotlib.image.AxesImage at 0x7fbfe740f198>"
            ]
          },
          "metadata": {
            "tags": []
          },
          "execution_count": 20
        },
        {
          "output_type": "display_data",
          "data": {
            "image/png": "[encoded data removed]",
            "text/plain": [
              "<Figure size 576x396 with 1 Axes>"
            ]
          },
          "metadata": {
            "tags": []
          }
        }
      ]
    },
    {
      "metadata": {
        "id": "0gF2IvLtLTfT",
        "colab_type": "text"
      },
      "cell_type": "markdown",
      "source": [
        "### Compare with closest image from database"
      ]
    }
  ]
}