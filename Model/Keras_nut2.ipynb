{
  "nbformat": 4,
  "nbformat_minor": 0,
  "metadata": {
    "colab": {
      "name": "Keras_nut2.ipynb",
      "version": "0.3.2",
      "provenance": [],
      "collapsed_sections": []
    },
    "kernelspec": {
      "name": "python3",
      "display_name": "Python 3"
    },
    "accelerator": "GPU"
  },
  "cells": [
    {
      "metadata": {
        "id": "0p8PaSXL0zcZ",
        "colab_type": "code",
        "colab": {}
      },
      "cell_type": "code",
      "source": [
        ""
      ],
      "execution_count": 0,
      "outputs": []
    },
    {
      "metadata": {
        "id": "XXh6Pdcm04Tk",
        "colab_type": "text"
      },
      "cell_type": "markdown",
      "source": [
        "# Playing around with Keras machine learning..\n",
        "\n",
        "Scaling up from difficulty.\n",
        "\n",
        "Fully-Connected network (Forward model)"
      ]
    },
    {
      "metadata": {
        "id": "XIu_7t5m09tY",
        "colab_type": "text"
      },
      "cell_type": "markdown",
      "source": [
        "# Packages"
      ]
    },
    {
      "metadata": {
        "id": "y8aDSZck049q",
        "colab_type": "code",
        "colab": {
          "base_uri": "https://localhost:8080/",
          "height": 34
        },
        "outputId": "e69e361d-1738-491a-e1d3-a4bb9b7087fc"
      },
      "cell_type": "code",
      "source": [
        "from keras.models import Model, Sequential\n",
        "from keras.layers import Input, ZeroPadding2D\n",
        "from keras.layers import Dense, BatchNormalization\n",
        "from keras.layers.merge import concatenate\n",
        "from keras.optimizers import Adam, RMSprop\n",
        "from keras.layers import Dense, Activation, Flatten, Reshape, Conv2D\n",
        "from keras.layers import Conv2DTranspose, UpSampling2D, LeakyReLU, Dropout\n",
        "import numpy as np\n",
        "import matplotlib.pyplot as plt\n",
        "import tensorflow as tf"
      ],
      "execution_count": 1,
      "outputs": [
        {
          "output_type": "stream",
          "text": [
            "Using TensorFlow backend.\n"
          ],
          "name": "stderr"
        }
      ]
    },
    {
      "metadata": {
        "id": "OSZwfW7T1Alx",
        "colab_type": "text"
      },
      "cell_type": "markdown",
      "source": [
        "# Load Data"
      ]
    },
    {
      "metadata": {
        "id": "6KuyXhvH1CtF",
        "colab_type": "code",
        "colab": {
          "base_uri": "https://localhost:8080/",
          "height": 34
        },
        "outputId": "185913e9-1aca-4636-c2f0-d46a8f1db091"
      },
      "cell_type": "code",
      "source": [
        "# Load the Drive helper and mount (Authorization)\n",
        "from google.colab import drive\n",
        "drive.mount('/content/drive')"
      ],
      "execution_count": 2,
      "outputs": [
        {
          "output_type": "stream",
          "text": [
            "Drive already mounted at /content/drive; to attempt to forcibly remount, call drive.mount(\"/content/drive\", force_remount=True).\n"
          ],
          "name": "stdout"
        }
      ]
    },
    {
      "metadata": {
        "id": "sRoCyVPX1FX9",
        "colab_type": "code",
        "colab": {}
      },
      "cell_type": "code",
      "source": [
        "import os\n",
        "import h5py\n",
        "import pandas as pd\n",
        "os.chdir('/content/drive/My Drive/LLNL')"
      ],
      "execution_count": 0,
      "outputs": []
    },
    {
      "metadata": {
        "id": "N5tqKrfV1K_G",
        "colab_type": "code",
        "colab": {
          "base_uri": "https://localhost:8080/",
          "height": 34
        },
        "outputId": "886932dc-db31-4c5a-85fd-05537fdaaacb"
      },
      "cell_type": "code",
      "source": [
        "def load_data(train_path,test_path):\n",
        "    # read in Data\n",
        "    tests_data = test_path ; train_data = train_path;\n",
        "    ts_df = h5py.File(tests_data,'r') ; tr_df = h5py.File(train_data,'r') ;\n",
        "    # Scan for images and grab labels\n",
        "    y_train = np.array(tr_df['images'])\n",
        "    X_train = np.array([tr_df['images'][i][0] for i in y_train])\n",
        "    y_test = np.array(ts_df['images'])\n",
        "    X_test = np.array([ts_df['images'][i][0] for i in y_test])\n",
        "    # close h5py\n",
        "    ts_df.close() ; tr_df.close()\n",
        "    return (X_train*1.0, X_test*1.0)\n",
        "\n",
        "train_path = 'new_training_data.h5'\n",
        "test_path = 'new_test_data.h5'\n",
        "(X_train, X_test) = load_data(train_path,test_path)\n",
        "X_train.shape # images will be labels for this model."
      ],
      "execution_count": 4,
      "outputs": [
        {
          "output_type": "execute_result",
          "data": {
            "text/plain": [
              "(16771, 100, 100)"
            ]
          },
          "metadata": {
            "tags": []
          },
          "execution_count": 4
        }
      ]
    },
    {
      "metadata": {
        "id": "6dKKGJHV1Nea",
        "colab_type": "code",
        "colab": {}
      },
      "cell_type": "code",
      "source": [
        "# Parameter Data to use\n",
        "train_df = pd.read_csv(\"param_search.csv\", sep = \",\")\n",
        "test_df = pd.read_csv(\"param_search2.csv\", sep = \",\")"
      ],
      "execution_count": 0,
      "outputs": []
    },
    {
      "metadata": {
        "id": "yrKo6Nug1Jse",
        "colab_type": "text"
      },
      "cell_type": "markdown",
      "source": [
        "# Manipulate Data"
      ]
    },
    {
      "metadata": {
        "id": "KoHisUrL1PvU",
        "colab_type": "code",
        "colab": {
          "base_uri": "https://localhost:8080/",
          "height": 34
        },
        "outputId": "1115311a-ce3d-4089-9014-d47790ee9acd"
      },
      "cell_type": "code",
      "source": [
        "# Resizing data to 50 by 50 image. (Not necessary for 100 by 100 images)\n",
        "import scipy.ndimage as ndi\n",
        "X_train = ndi.zoom(X_train, (1, 1, 1), order=2)\n",
        "X_test = ndi.zoom(X_test, (1, 1, 1), order=2)\n",
        "np.shape(X_train) + np.shape(X_test)"
      ],
      "execution_count": 6,
      "outputs": [
        {
          "output_type": "execute_result",
          "data": {
            "text/plain": [
              "(16771, 100, 100, 7214, 100, 100)"
            ]
          },
          "metadata": {
            "tags": []
          },
          "execution_count": 6
        }
      ]
    },
    {
      "metadata": {
        "id": "HCJjUZpG1W-r",
        "colab_type": "code",
        "colab": {}
      },
      "cell_type": "code",
      "source": [
        "# Normalize Data.\n",
        "X_train = (X_train-np.min(X_train))/(np.max(X_train)-np.min(X_train))\n",
        "X_test = (X_test-np.min(X_test))/(np.max(X_test)-np.min(X_test))"
      ],
      "execution_count": 0,
      "outputs": []
    },
    {
      "metadata": {
        "id": "Ke6nUZ411ZZa",
        "colab_type": "text"
      },
      "cell_type": "markdown",
      "source": [
        "# Keras Sequential Model.."
      ]
    },
    {
      "metadata": {
        "id": "ddy-dS1-1bTT",
        "colab_type": "code",
        "colab": {
          "base_uri": "https://localhost:8080/",
          "height": 938
        },
        "outputId": "ef5f6050-99e4-4bc7-b0bc-e455cdedc29d"
      },
      "cell_type": "code",
      "source": [
        "model = Sequential()\n",
        "# Hidden Layer\n",
        "model.add(Dense(64, activation='relu', input_shape=(3,)))\n",
        "model.add(Dense(128, activation='relu'))\n",
        "model.add(Dense(256, activation='relu'))\n",
        "model.add(Dense(256, activation='relu'))\n",
        "model.add(Dense(512, activation='relu'))\n",
        "# Interpretation layer\n",
        "model.add(BatchNormalization())\n",
        "model.add(Dense(512, activation='relu'))\n",
        "model.add(BatchNormalization())\n",
        "model.add(Dropout(0.2))\n",
        "model.add(Dense(625, activation='relu'))\n",
        "model.add(BatchNormalization())\n",
        "model.add(Dropout(0.2))\n",
        "model.add(Dense(625, activation='relu'))\n",
        "model.add(BatchNormalization())\n",
        "model.add(Dropout(0.2))\n",
        "model.add(Dense(1024, activation='relu'))\n",
        "model.add(BatchNormalization())\n",
        "model.add(Dense(1024, activation='relu'))\n",
        "model.add(BatchNormalization())\n",
        "# output layer\n",
        "model.add(Dense(10000, activation=None))\n",
        "model.summary()"
      ],
      "execution_count": 8,
      "outputs": [
        {
          "output_type": "stream",
          "text": [
            "WARNING:tensorflow:From /usr/local/lib/python3.6/dist-packages/tensorflow/python/framework/op_def_library.py:263: colocate_with (from tensorflow.python.framework.ops) is deprecated and will be removed in a future version.\n",
            "Instructions for updating:\n",
            "Colocations handled automatically by placer.\n",
            "WARNING:tensorflow:From /usr/local/lib/python3.6/dist-packages/keras/backend/tensorflow_backend.py:3445: calling dropout (from tensorflow.python.ops.nn_ops) with keep_prob is deprecated and will be removed in a future version.\n",
            "Instructions for updating:\n",
            "Please use `rate` instead of `keep_prob`. Rate should be set to `rate = 1 - keep_prob`.\n",
            "_________________________________________________________________\n",
            "Layer (type)                 Output Shape              Param #   \n",
            "=================================================================\n",
            "dense_1 (Dense)              (None, 64)                256       \n",
            "_________________________________________________________________\n",
            "dense_2 (Dense)              (None, 128)               8320      \n",
            "_________________________________________________________________\n",
            "dense_3 (Dense)              (None, 256)               33024     \n",
            "_________________________________________________________________\n",
            "dense_4 (Dense)              (None, 256)               65792     \n",
            "_________________________________________________________________\n",
            "dense_5 (Dense)              (None, 512)               131584    \n",
            "_________________________________________________________________\n",
            "batch_normalization_1 (Batch (None, 512)               2048      \n",
            "_________________________________________________________________\n",
            "dense_6 (Dense)              (None, 512)               262656    \n",
            "_________________________________________________________________\n",
            "batch_normalization_2 (Batch (None, 512)               2048      \n",
            "_________________________________________________________________\n",
            "dropout_1 (Dropout)          (None, 512)               0         \n",
            "_________________________________________________________________\n",
            "dense_7 (Dense)              (None, 625)               320625    \n",
            "_________________________________________________________________\n",
            "batch_normalization_3 (Batch (None, 625)               2500      \n",
            "_________________________________________________________________\n",
            "dropout_2 (Dropout)          (None, 625)               0         \n",
            "_________________________________________________________________\n",
            "dense_8 (Dense)              (None, 625)               391250    \n",
            "_________________________________________________________________\n",
            "batch_normalization_4 (Batch (None, 625)               2500      \n",
            "_________________________________________________________________\n",
            "dropout_3 (Dropout)          (None, 625)               0         \n",
            "_________________________________________________________________\n",
            "dense_9 (Dense)              (None, 1024)              641024    \n",
            "_________________________________________________________________\n",
            "batch_normalization_5 (Batch (None, 1024)              4096      \n",
            "_________________________________________________________________\n",
            "dense_10 (Dense)             (None, 1024)              1049600   \n",
            "_________________________________________________________________\n",
            "batch_normalization_6 (Batch (None, 1024)              4096      \n",
            "_________________________________________________________________\n",
            "dense_11 (Dense)             (None, 10000)             10250000  \n",
            "=================================================================\n",
            "Total params: 13,171,419\n",
            "Trainable params: 13,162,775\n",
            "Non-trainable params: 8,644\n",
            "_________________________________________________________________\n"
          ],
          "name": "stdout"
        }
      ]
    },
    {
      "metadata": {
        "id": "gKu-05GW1djg",
        "colab_type": "code",
        "colab": {}
      },
      "cell_type": "code",
      "source": [
        "model.compile(loss='mean_squared_error',optimizer=Adam(lr=0.0001),metrics=['mean_squared_error'])"
      ],
      "execution_count": 0,
      "outputs": []
    },
    {
      "metadata": {
        "id": "9RUNacSd1faa",
        "colab_type": "text"
      },
      "cell_type": "markdown",
      "source": [
        "# Training Model"
      ]
    },
    {
      "metadata": {
        "id": "TI8qqwnJ1hG6",
        "colab_type": "code",
        "colab": {
          "base_uri": "https://localhost:8080/",
          "height": 3505
        },
        "outputId": "292aab8f-5601-44df-efbe-0c4d011c6433"
      },
      "cell_type": "code",
      "source": [
        "model.fit(train_df,np.reshape(X_train,(16771,10000)), batch_size = 75, epochs = 100, shuffle = True) "
      ],
      "execution_count": 10,
      "outputs": [
        {
          "output_type": "stream",
          "text": [
            "WARNING:tensorflow:From /usr/local/lib/python3.6/dist-packages/tensorflow/python/ops/math_ops.py:3066: to_int32 (from tensorflow.python.ops.math_ops) is deprecated and will be removed in a future version.\n",
            "Instructions for updating:\n",
            "Use tf.cast instead.\n",
            "Epoch 1/100\n",
            "16771/16771 [==============================] - 12s 725us/step - loss: 0.0544 - mean_squared_error: 0.0544\n",
            "Epoch 2/100\n",
            "16771/16771 [==============================] - 9s 530us/step - loss: 0.0073 - mean_squared_error: 0.0073\n",
            "Epoch 3/100\n",
            "16771/16771 [==============================] - 9s 527us/step - loss: 0.0022 - mean_squared_error: 0.0022\n",
            "Epoch 4/100\n",
            "16771/16771 [==============================] - 9s 528us/step - loss: 0.0016 - mean_squared_error: 0.0016\n",
            "Epoch 5/100\n",
            "16771/16771 [==============================] - 9s 528us/step - loss: 0.0014 - mean_squared_error: 0.0014\n",
            "Epoch 6/100\n",
            "16771/16771 [==============================] - 9s 529us/step - loss: 0.0013 - mean_squared_error: 0.0013\n",
            "Epoch 7/100\n",
            "16771/16771 [==============================] - 9s 529us/step - loss: 0.0011 - mean_squared_error: 0.0011\n",
            "Epoch 8/100\n",
            "16771/16771 [==============================] - 9s 527us/step - loss: 0.0010 - mean_squared_error: 0.0010\n",
            "Epoch 9/100\n",
            "16771/16771 [==============================] - 9s 530us/step - loss: 8.9031e-04 - mean_squared_error: 8.9031e-04\n",
            "Epoch 10/100\n",
            "16771/16771 [==============================] - 9s 528us/step - loss: 8.2491e-04 - mean_squared_error: 8.2491e-04\n",
            "Epoch 11/100\n",
            "16771/16771 [==============================] - 9s 529us/step - loss: 7.5314e-04 - mean_squared_error: 7.5314e-04\n",
            "Epoch 12/100\n",
            "16771/16771 [==============================] - 9s 528us/step - loss: 7.3298e-04 - mean_squared_error: 7.3298e-04\n",
            "Epoch 13/100\n",
            "16771/16771 [==============================] - 9s 529us/step - loss: 7.4156e-04 - mean_squared_error: 7.4156e-04\n",
            "Epoch 14/100\n",
            "16771/16771 [==============================] - 9s 527us/step - loss: 6.1959e-04 - mean_squared_error: 6.1959e-04\n",
            "Epoch 15/100\n",
            "16771/16771 [==============================] - 9s 528us/step - loss: 6.2715e-04 - mean_squared_error: 6.2715e-04\n",
            "Epoch 16/100\n",
            "16771/16771 [==============================] - 9s 528us/step - loss: 5.8926e-04 - mean_squared_error: 5.8926e-04\n",
            "Epoch 17/100\n",
            "16771/16771 [==============================] - 9s 523us/step - loss: 6.2156e-04 - mean_squared_error: 6.2156e-04\n",
            "Epoch 18/100\n",
            "16771/16771 [==============================] - 9s 529us/step - loss: 5.8971e-04 - mean_squared_error: 5.8971e-04\n",
            "Epoch 19/100\n",
            "16771/16771 [==============================] - 9s 526us/step - loss: 5.4611e-04 - mean_squared_error: 5.4611e-04\n",
            "Epoch 20/100\n",
            "16771/16771 [==============================] - 9s 528us/step - loss: 5.2135e-04 - mean_squared_error: 5.2135e-04\n",
            "Epoch 21/100\n",
            "16771/16771 [==============================] - 9s 528us/step - loss: 5.3043e-04 - mean_squared_error: 5.3043e-04\n",
            "Epoch 22/100\n",
            "16771/16771 [==============================] - 9s 529us/step - loss: 4.8889e-04 - mean_squared_error: 4.8889e-04\n",
            "Epoch 23/100\n",
            "16771/16771 [==============================] - 9s 530us/step - loss: 5.0439e-04 - mean_squared_error: 5.0439e-04\n",
            "Epoch 24/100\n",
            "16771/16771 [==============================] - 9s 527us/step - loss: 4.5809e-04 - mean_squared_error: 4.5809e-04\n",
            "Epoch 25/100\n",
            "16771/16771 [==============================] - 9s 533us/step - loss: 4.5151e-04 - mean_squared_error: 4.5151e-04\n",
            "Epoch 26/100\n",
            "16771/16771 [==============================] - 9s 529us/step - loss: 4.2596e-04 - mean_squared_error: 4.2596e-04\n",
            "Epoch 27/100\n",
            "16771/16771 [==============================] - 9s 529us/step - loss: 4.1955e-04 - mean_squared_error: 4.1955e-04\n",
            "Epoch 28/100\n",
            "16771/16771 [==============================] - 9s 529us/step - loss: 4.1877e-04 - mean_squared_error: 4.1877e-04\n",
            "Epoch 29/100\n",
            "16771/16771 [==============================] - 9s 530us/step - loss: 4.3689e-04 - mean_squared_error: 4.3689e-04\n",
            "Epoch 30/100\n",
            "16771/16771 [==============================] - 9s 529us/step - loss: 3.8741e-04 - mean_squared_error: 3.8741e-04\n",
            "Epoch 31/100\n",
            "16771/16771 [==============================] - 9s 529us/step - loss: 4.2598e-04 - mean_squared_error: 4.2598e-04\n",
            "Epoch 32/100\n",
            "16771/16771 [==============================] - 9s 528us/step - loss: 3.7150e-04 - mean_squared_error: 3.7150e-04\n",
            "Epoch 33/100\n",
            "16771/16771 [==============================] - 9s 529us/step - loss: 3.8936e-04 - mean_squared_error: 3.8936e-04\n",
            "Epoch 34/100\n",
            "16771/16771 [==============================] - 9s 528us/step - loss: 3.9477e-04 - mean_squared_error: 3.9477e-04\n",
            "Epoch 35/100\n",
            "16771/16771 [==============================] - 9s 524us/step - loss: 3.8090e-04 - mean_squared_error: 3.8090e-04\n",
            "Epoch 36/100\n",
            "16771/16771 [==============================] - 9s 529us/step - loss: 3.5386e-04 - mean_squared_error: 3.5386e-04\n",
            "Epoch 37/100\n",
            "16771/16771 [==============================] - 9s 529us/step - loss: 3.4574e-04 - mean_squared_error: 3.4574e-04\n",
            "Epoch 38/100\n",
            "16771/16771 [==============================] - 9s 530us/step - loss: 3.5300e-04 - mean_squared_error: 3.5300e-04\n",
            "Epoch 39/100\n",
            "16771/16771 [==============================] - 9s 527us/step - loss: 3.3903e-04 - mean_squared_error: 3.3903e-04\n",
            "Epoch 40/100\n",
            "16771/16771 [==============================] - 9s 526us/step - loss: 3.3550e-04 - mean_squared_error: 3.3550e-04\n",
            "Epoch 41/100\n",
            "16771/16771 [==============================] - 9s 528us/step - loss: 3.3881e-04 - mean_squared_error: 3.3881e-04\n",
            "Epoch 42/100\n",
            "16771/16771 [==============================] - 9s 530us/step - loss: 3.2666e-04 - mean_squared_error: 3.2666e-04\n",
            "Epoch 43/100\n",
            "16771/16771 [==============================] - 9s 528us/step - loss: 3.2316e-04 - mean_squared_error: 3.2316e-04\n",
            "Epoch 44/100\n",
            "16771/16771 [==============================] - 9s 529us/step - loss: 3.3600e-04 - mean_squared_error: 3.3600e-04\n",
            "Epoch 45/100\n",
            "16771/16771 [==============================] - 9s 529us/step - loss: 3.0054e-04 - mean_squared_error: 3.0054e-04\n",
            "Epoch 46/100\n",
            "16771/16771 [==============================] - 9s 527us/step - loss: 3.1216e-04 - mean_squared_error: 3.1216e-04\n",
            "Epoch 47/100\n",
            "16771/16771 [==============================] - 9s 528us/step - loss: 3.0789e-04 - mean_squared_error: 3.0789e-04\n",
            "Epoch 48/100\n",
            "16771/16771 [==============================] - 9s 528us/step - loss: 2.8961e-04 - mean_squared_error: 2.8961e-04\n",
            "Epoch 49/100\n",
            "16771/16771 [==============================] - 9s 528us/step - loss: 3.1594e-04 - mean_squared_error: 3.1594e-04\n",
            "Epoch 50/100\n",
            "16771/16771 [==============================] - 9s 529us/step - loss: 2.8454e-04 - mean_squared_error: 2.8454e-04\n",
            "Epoch 51/100\n",
            "16771/16771 [==============================] - 9s 529us/step - loss: 2.7412e-04 - mean_squared_error: 2.7412e-04\n",
            "Epoch 52/100\n",
            "16771/16771 [==============================] - 9s 527us/step - loss: 2.9002e-04 - mean_squared_error: 2.9002e-04\n",
            "Epoch 53/100\n",
            "16771/16771 [==============================] - 9s 530us/step - loss: 2.8397e-04 - mean_squared_error: 2.8397e-04\n",
            "Epoch 54/100\n",
            "16771/16771 [==============================] - 9s 529us/step - loss: 2.6882e-04 - mean_squared_error: 2.6882e-04\n",
            "Epoch 55/100\n",
            "16771/16771 [==============================] - 9s 529us/step - loss: 2.9763e-04 - mean_squared_error: 2.9763e-04\n",
            "Epoch 56/100\n",
            "16771/16771 [==============================] - 9s 528us/step - loss: 2.7774e-04 - mean_squared_error: 2.7774e-04\n",
            "Epoch 57/100\n",
            "16771/16771 [==============================] - 9s 527us/step - loss: 2.7137e-04 - mean_squared_error: 2.7137e-04\n",
            "Epoch 58/100\n",
            "16771/16771 [==============================] - 9s 527us/step - loss: 2.6420e-04 - mean_squared_error: 2.6420e-04\n",
            "Epoch 59/100\n",
            "16771/16771 [==============================] - 9s 530us/step - loss: 2.6724e-04 - mean_squared_error: 2.6724e-04\n",
            "Epoch 60/100\n",
            "16771/16771 [==============================] - 9s 528us/step - loss: 2.7338e-04 - mean_squared_error: 2.7338e-04\n",
            "Epoch 61/100\n",
            "16771/16771 [==============================] - 9s 529us/step - loss: 2.5297e-04 - mean_squared_error: 2.5297e-04\n",
            "Epoch 62/100\n",
            "16771/16771 [==============================] - 9s 528us/step - loss: 2.6087e-04 - mean_squared_error: 2.6087e-04\n",
            "Epoch 63/100\n",
            "16771/16771 [==============================] - 9s 528us/step - loss: 2.6272e-04 - mean_squared_error: 2.6272e-04\n",
            "Epoch 64/100\n",
            "16771/16771 [==============================] - 9s 528us/step - loss: 2.4079e-04 - mean_squared_error: 2.4079e-04\n",
            "Epoch 65/100\n",
            "16771/16771 [==============================] - 9s 529us/step - loss: 2.4432e-04 - mean_squared_error: 2.4432e-04\n",
            "Epoch 66/100\n",
            "16771/16771 [==============================] - 9s 527us/step - loss: 2.6955e-04 - mean_squared_error: 2.6955e-04\n",
            "Epoch 67/100\n",
            "16771/16771 [==============================] - 9s 528us/step - loss: 2.4850e-04 - mean_squared_error: 2.4850e-04\n",
            "Epoch 68/100\n",
            "16771/16771 [==============================] - 9s 528us/step - loss: 2.5522e-04 - mean_squared_error: 2.5522e-04\n",
            "Epoch 69/100\n",
            "16771/16771 [==============================] - 9s 524us/step - loss: 2.4041e-04 - mean_squared_error: 2.4041e-04\n",
            "Epoch 70/100\n",
            "16771/16771 [==============================] - 9s 523us/step - loss: 2.3732e-04 - mean_squared_error: 2.3732e-04\n",
            "Epoch 71/100\n",
            "16771/16771 [==============================] - 9s 534us/step - loss: 2.4212e-04 - mean_squared_error: 2.4212e-04\n",
            "Epoch 72/100\n",
            "16771/16771 [==============================] - 9s 530us/step - loss: 2.3708e-04 - mean_squared_error: 2.3708e-04\n",
            "Epoch 73/100\n",
            "16771/16771 [==============================] - 9s 531us/step - loss: 2.4873e-04 - mean_squared_error: 2.4873e-04\n",
            "Epoch 74/100\n",
            "16771/16771 [==============================] - 9s 530us/step - loss: 2.3731e-04 - mean_squared_error: 2.3731e-04\n",
            "Epoch 75/100\n",
            "16771/16771 [==============================] - 9s 530us/step - loss: 2.3128e-04 - mean_squared_error: 2.3128e-04\n",
            "Epoch 76/100\n",
            "16771/16771 [==============================] - 9s 532us/step - loss: 2.2449e-04 - mean_squared_error: 2.2449e-04\n",
            "Epoch 77/100\n",
            "16771/16771 [==============================] - 9s 528us/step - loss: 2.1718e-04 - mean_squared_error: 2.1718e-04\n",
            "Epoch 78/100\n",
            "16771/16771 [==============================] - 9s 527us/step - loss: 2.2838e-04 - mean_squared_error: 2.2838e-04\n",
            "Epoch 79/100\n",
            "16771/16771 [==============================] - 9s 531us/step - loss: 2.4304e-04 - mean_squared_error: 2.4304e-04\n",
            "Epoch 80/100\n",
            "16771/16771 [==============================] - 9s 529us/step - loss: 2.1750e-04 - mean_squared_error: 2.1750e-04\n",
            "Epoch 81/100\n",
            "16771/16771 [==============================] - 9s 531us/step - loss: 2.0757e-04 - mean_squared_error: 2.0757e-04\n",
            "Epoch 82/100\n",
            "16771/16771 [==============================] - 9s 529us/step - loss: 2.0866e-04 - mean_squared_error: 2.0866e-04\n",
            "Epoch 83/100\n",
            "16771/16771 [==============================] - 9s 533us/step - loss: 2.0953e-04 - mean_squared_error: 2.0953e-04\n",
            "Epoch 84/100\n",
            "16771/16771 [==============================] - 9s 528us/step - loss: 2.1413e-04 - mean_squared_error: 2.1413e-04\n",
            "Epoch 85/100\n",
            "16771/16771 [==============================] - 9s 528us/step - loss: 2.1493e-04 - mean_squared_error: 2.1493e-04\n",
            "Epoch 86/100\n",
            "16771/16771 [==============================] - 9s 525us/step - loss: 2.0421e-04 - mean_squared_error: 2.0421e-04\n",
            "Epoch 87/100\n",
            "16771/16771 [==============================] - 9s 534us/step - loss: 1.9676e-04 - mean_squared_error: 1.9676e-04\n",
            "Epoch 88/100\n",
            "16771/16771 [==============================] - 9s 531us/step - loss: 2.1394e-04 - mean_squared_error: 2.1394e-04\n",
            "Epoch 89/100\n",
            "16771/16771 [==============================] - 9s 530us/step - loss: 2.0271e-04 - mean_squared_error: 2.0271e-04\n",
            "Epoch 90/100\n",
            "16771/16771 [==============================] - 9s 529us/step - loss: 1.9175e-04 - mean_squared_error: 1.9175e-04\n",
            "Epoch 91/100\n",
            "16771/16771 [==============================] - 9s 529us/step - loss: 2.0336e-04 - mean_squared_error: 2.0336e-04\n",
            "Epoch 92/100\n",
            "16771/16771 [==============================] - 9s 529us/step - loss: 2.0398e-04 - mean_squared_error: 2.0398e-04\n",
            "Epoch 93/100\n",
            "16771/16771 [==============================] - 9s 531us/step - loss: 2.0345e-04 - mean_squared_error: 2.0345e-04\n",
            "Epoch 94/100\n",
            "16771/16771 [==============================] - 9s 530us/step - loss: 2.1125e-04 - mean_squared_error: 2.1125e-04\n",
            "Epoch 95/100\n",
            "16771/16771 [==============================] - 9s 533us/step - loss: 2.1265e-04 - mean_squared_error: 2.1265e-04\n",
            "Epoch 96/100\n",
            "16771/16771 [==============================] - 9s 530us/step - loss: 1.8428e-04 - mean_squared_error: 1.8428e-04\n",
            "Epoch 97/100\n",
            "16771/16771 [==============================] - 9s 529us/step - loss: 1.8688e-04 - mean_squared_error: 1.8688e-04\n",
            "Epoch 98/100\n",
            "16771/16771 [==============================] - 9s 529us/step - loss: 2.0314e-04 - mean_squared_error: 2.0314e-04\n",
            "Epoch 99/100\n",
            "16771/16771 [==============================] - 9s 529us/step - loss: 2.0277e-04 - mean_squared_error: 2.0277e-04\n",
            "Epoch 100/100\n",
            "16771/16771 [==============================] - 9s 525us/step - loss: 2.1084e-04 - mean_squared_error: 2.1084e-04\n"
          ],
          "name": "stdout"
        },
        {
          "output_type": "execute_result",
          "data": {
            "text/plain": [
              "<keras.callbacks.History at 0x7f2e79c57dd8>"
            ]
          },
          "metadata": {
            "tags": []
          },
          "execution_count": 10
        }
      ]
    },
    {
      "metadata": {
        "id": "kFkkkifk1lfQ",
        "colab_type": "text"
      },
      "cell_type": "markdown",
      "source": [
        "# Predictions\n",
        "\n",
        "First image is out of sample. Second image is out of sample."
      ]
    },
    {
      "metadata": {
        "id": "TCY6fRTkkUj2",
        "colab_type": "code",
        "colab": {}
      },
      "cell_type": "code",
      "source": [
        ""
      ],
      "execution_count": 0,
      "outputs": []
    },
    {
      "metadata": {
        "id": "yX8iCl2p1kvk",
        "colab_type": "code",
        "colab": {
          "base_uri": "https://localhost:8080/",
          "height": 85
        },
        "outputId": "114a5165-8b5c-4231-97f9-cfdff94a3ad7"
      },
      "cell_type": "code",
      "source": [
        "# Grab image from dataset.\n",
        "print(train_df.iloc[50:51,])\n",
        "print(test_df.iloc[100:101,])"
      ],
      "execution_count": 11,
      "outputs": [
        {
          "output_type": "stream",
          "text": [
            "           p        phi       theta\n",
            "50 -0.786348  56.876568  101.787616\n",
            "            p   phi       theta\n",
            "100 -0.786348  90.0  164.850871\n"
          ],
          "name": "stdout"
        }
      ]
    },
    {
      "metadata": {
        "id": "ee4vLU2N1o4q",
        "colab_type": "text"
      },
      "cell_type": "markdown",
      "source": [
        "### Out of Sample"
      ]
    },
    {
      "metadata": {
        "id": "sgXA_DUB1qn0",
        "colab_type": "code",
        "colab": {
          "base_uri": "https://localhost:8080/",
          "height": 366
        },
        "outputId": "b8d18e83-67c3-47d7-c46f-a0effb26a48c"
      },
      "cell_type": "code",
      "source": [
        "huh = model.predict(test_df.iloc[5220:5221,])\n",
        "plt.imshow(np.reshape(huh,(100,100)),cmap = 'jet')"
      ],
      "execution_count": 12,
      "outputs": [
        {
          "output_type": "execute_result",
          "data": {
            "text/plain": [
              "<matplotlib.image.AxesImage at 0x7f2e705eeef0>"
            ]
          },
          "metadata": {
            "tags": []
          },
          "execution_count": 12
        },
        {
          "output_type": "display_data",
          "data": {
            "image/png": "[encoded data removed]",
            "text/plain": [
              "<Figure size 576x396 with 1 Axes>"
            ]
          },
          "metadata": {
            "tags": []
          }
        }
      ]
    },
    {
      "metadata": {
        "id": "zYI5fQ9s1s-p",
        "colab_type": "text"
      },
      "cell_type": "markdown",
      "source": [
        "Real Image Comparison for Out of Sapmle"
      ]
    },
    {
      "metadata": {
        "id": "ISx_aSev1vO7",
        "colab_type": "code",
        "colab": {
          "base_uri": "https://localhost:8080/",
          "height": 366
        },
        "outputId": "6ba6f433-c3c0-4944-8941-607c5f2da41e"
      },
      "cell_type": "code",
      "source": [
        "plt.imshow(np.reshape(X_test[5220], (100,100)), cmap = 'jet')"
      ],
      "execution_count": 13,
      "outputs": [
        {
          "output_type": "execute_result",
          "data": {
            "text/plain": [
              "<matplotlib.image.AxesImage at 0x7f2e70578320>"
            ]
          },
          "metadata": {
            "tags": []
          },
          "execution_count": 13
        },
        {
          "output_type": "display_data",
          "data": {
            "image/png": "[encoded data removed]",
            "text/plain": [
              "<Figure size 576x396 with 1 Axes>"
            ]
          },
          "metadata": {
            "tags": []
          }
        }
      ]
    },
    {
      "metadata": {
        "id": "Kw-uaxET1xGf",
        "colab_type": "text"
      },
      "cell_type": "markdown",
      "source": [
        "### In Sample"
      ]
    },
    {
      "metadata": {
        "id": "kE4b9srA1xtp",
        "colab_type": "code",
        "colab": {
          "base_uri": "https://localhost:8080/",
          "height": 366
        },
        "outputId": "bfa988d7-32c5-4edf-a6be-66d68f59adae"
      },
      "cell_type": "code",
      "source": [
        "huh = model.predict(train_df.iloc[1014:1015,])\n",
        "plt.imshow(np.reshape(huh,(100,100)),cmap = 'jet')"
      ],
      "execution_count": 14,
      "outputs": [
        {
          "output_type": "execute_result",
          "data": {
            "text/plain": [
              "<matplotlib.image.AxesImage at 0x7f2e7054cb00>"
            ]
          },
          "metadata": {
            "tags": []
          },
          "execution_count": 14
        },
        {
          "output_type": "display_data",
          "data": {
            "image/png": "[encoded data removed]",
            "text/plain": [
              "<Figure size 576x396 with 1 Axes>"
            ]
          },
          "metadata": {
            "tags": []
          }
        }
      ]
    },
    {
      "metadata": {
        "id": "4391x7XZ12be",
        "colab_type": "text"
      },
      "cell_type": "markdown",
      "source": [
        "Real image for in sample"
      ]
    },
    {
      "metadata": {
        "id": "gCx9EgWc105H",
        "colab_type": "code",
        "colab": {
          "base_uri": "https://localhost:8080/",
          "height": 366
        },
        "outputId": "2e1951c9-124e-463e-9c2c-60679f72ca7b"
      },
      "cell_type": "code",
      "source": [
        "plt.imshow(np.reshape(X_train[1015], (100,100)), cmap = 'jet')"
      ],
      "execution_count": 15,
      "outputs": [
        {
          "output_type": "execute_result",
          "data": {
            "text/plain": [
              "<matplotlib.image.AxesImage at 0x7f2e7049fc88>"
            ]
          },
          "metadata": {
            "tags": []
          },
          "execution_count": 15
        },
        {
          "output_type": "display_data",
          "data": {
            "image/png": "[encoded data removed]",
            "text/plain": [
              "<Figure size 576x396 with 1 Axes>"
            ]
          },
          "metadata": {
            "tags": []
          }
        }
      ]
    },
    {
      "metadata": {
        "id": "Baa0xgxF16Ct",
        "colab_type": "text"
      },
      "cell_type": "markdown",
      "source": [
        "# Evaluate/Benchmark model"
      ]
    },
    {
      "metadata": {
        "id": "b1o8RiVD167G",
        "colab_type": "code",
        "colab": {
          "base_uri": "https://localhost:8080/",
          "height": 51
        },
        "outputId": "242db39c-a8f8-4d37-9a9e-df601632bae5"
      },
      "cell_type": "code",
      "source": [
        "model.evaluate(test_df, np.reshape(X_test,(7214,10000))) # Test < train. Good sign but 100 epochs may be a bit too many."
      ],
      "execution_count": 16,
      "outputs": [
        {
          "output_type": "stream",
          "text": [
            "7214/7214 [==============================] - 1s 196us/step\n"
          ],
          "name": "stdout"
        },
        {
          "output_type": "execute_result",
          "data": {
            "text/plain": [
              "[0.00012534627915959667, 0.00012534627915959667]"
            ]
          },
          "metadata": {
            "tags": []
          },
          "execution_count": 16
        }
      ]
    },
    {
      "metadata": {
        "id": "hvlXafyw199E",
        "colab_type": "text"
      },
      "cell_type": "markdown",
      "source": [
        "# Save Model"
      ]
    },
    {
      "metadata": {
        "id": "ArwTt-Xg2AGH",
        "colab_type": "code",
        "colab": {}
      },
      "cell_type": "code",
      "source": [
        "model.save('keras_128.h5')"
      ],
      "execution_count": 0,
      "outputs": []
    },
    {
      "metadata": {
        "id": "JqgFn7ZL2DpZ",
        "colab_type": "text"
      },
      "cell_type": "markdown",
      "source": [
        "### What is being saved\n",
        "- Weights\n",
        "- Training Configuration\n",
        "- Optimizer state\n",
        "- Architecture"
      ]
    },
    {
      "metadata": {
        "id": "IJtkH7Ja2ILG",
        "colab_type": "text"
      },
      "cell_type": "markdown",
      "source": [
        "# Load the model..."
      ]
    },
    {
      "metadata": {
        "id": "kqHlc9Fm2B3Z",
        "colab_type": "code",
        "colab": {}
      },
      "cell_type": "code",
      "source": [
        "from keras.models import load_model\n",
        "param_plasma = load_model('keras_128.h5')"
      ],
      "execution_count": 0,
      "outputs": []
    },
    {
      "metadata": {
        "id": "_rJagn8OHwG8",
        "colab_type": "code",
        "colab": {
          "base_uri": "https://localhost:8080/",
          "height": 80
        },
        "outputId": "fc62381b-0faf-40f9-d6bb-8898d29833d7"
      },
      "cell_type": "code",
      "source": [
        "# Generate Random values.\n",
        "p = np.random.uniform(-10, 10, 1)\n",
        "theta = np.random.uniform(0, 90, 1)\n",
        "phi = np.random.uniform(0,180, 1)\n",
        "trial = [p,theta,phi]\n",
        "check = pd.DataFrame([trial], columns= ['p','phi','theta'])\n",
        "check"
      ],
      "execution_count": 19,
      "outputs": [
        {
          "output_type": "execute_result",
          "data": {
            "text/html": [
              "<div>\n",
              "<style scoped>\n",
              "    .dataframe tbody tr th:only-of-type {\n",
              "        vertical-align: middle;\n",
              "    }\n",
              "\n",
              "    .dataframe tbody tr th {\n",
              "        vertical-align: top;\n",
              "    }\n",
              "\n",
              "    .dataframe thead th {\n",
              "        text-align: right;\n",
              "    }\n",
              "</style>\n",
              "<table border=\"1\" class=\"dataframe\">\n",
              "  <thead>\n",
              "    <tr style=\"text-align: right;\">\n",
              "      <th></th>\n",
              "      <th>p</th>\n",
              "      <th>phi</th>\n",
              "      <th>theta</th>\n",
              "    </tr>\n",
              "  </thead>\n",
              "  <tbody>\n",
              "    <tr>\n",
              "      <th>0</th>\n",
              "      <td>[5.027945732074485]</td>\n",
              "      <td>[11.045763191700054]</td>\n",
              "      <td>[116.94659834705374]</td>\n",
              "    </tr>\n",
              "  </tbody>\n",
              "</table>\n",
              "</div>"
            ],
            "text/plain": [
              "                     p                   phi                 theta\n",
              "0  [5.027945732074485]  [11.045763191700054]  [116.94659834705374]"
            ]
          },
          "metadata": {
            "tags": []
          },
          "execution_count": 19
        }
      ]
    },
    {
      "metadata": {
        "id": "hmQY4SAiOnol",
        "colab_type": "code",
        "colab": {
          "base_uri": "https://localhost:8080/",
          "height": 366
        },
        "outputId": "1b592dc8-b4b6-48d1-a18f-333baad84263"
      },
      "cell_type": "code",
      "source": [
        "# Predict\n",
        "hmm = param_plasma.predict(check.iloc[0:1])\n",
        "plt.imshow(np.reshape(hmm,(100,100)),cmap = 'jet')"
      ],
      "execution_count": 20,
      "outputs": [
        {
          "output_type": "execute_result",
          "data": {
            "text/plain": [
              "<matplotlib.image.AxesImage at 0x7f2e5bba47f0>"
            ]
          },
          "metadata": {
            "tags": []
          },
          "execution_count": 20
        },
        {
          "output_type": "display_data",
          "data": {
            "image/png": "[encoded data removed]",
            "text/plain": [
              "<Figure size 576x396 with 1 Axes>"
            ]
          },
          "metadata": {
            "tags": []
          }
        }
      ]
    },
    {
      "metadata": {
        "id": "0gF2IvLtLTfT",
        "colab_type": "text"
      },
      "cell_type": "markdown",
      "source": [
        "### Compare with closest image from database"
      ]
    }
  ]
}